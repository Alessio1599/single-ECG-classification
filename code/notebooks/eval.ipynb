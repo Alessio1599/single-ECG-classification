{
 "cells": [
  {
   "cell_type": "markdown",
   "metadata": {},
   "source": [
    "The eval.py is so messy, I will write here the most important things!!!"
   ]
  },
  {
   "cell_type": "code",
   "execution_count": 1,
   "metadata": {},
   "outputs": [],
   "source": [
    "import pandas as pd"
   ]
  },
  {
   "cell_type": "code",
   "execution_count": 2,
   "metadata": {},
   "outputs": [],
   "source": [
    "# Import the classification report of another model\n",
    "url = 'https://raw.githubusercontent.com/Alessio1599/single-ECG-classification/main/results/LSTM_classification_report.csv'\n",
    "lstm_report = pd.read_csv(url)\n",
    "lstm_report_df = pd.DataFrame(lstm_report)"
   ]
  },
  {
   "cell_type": "code",
   "execution_count": 5,
   "metadata": {},
   "outputs": [
    {
     "name": "stdout",
     "output_type": "stream",
     "text": [
      "{'Precision': 0.93, 'Recall': 0.85, 'F1-Score': 0.88}\n",
      "<class 'dict'>\n"
     ]
    }
   ],
   "source": [
    "# Extract macro average metrics\n",
    "macro_avg = lstm_report_df[lstm_report_df.iloc[:, 0] == 'macro avg'].iloc[0, 1:].astype(float)\n",
    "lstm_macro_avg = {\n",
    "    'Precision': macro_avg['precision'],\n",
    "    'Recall': macro_avg['recall'],\n",
    "    'F1-Score': macro_avg['f1-score']\n",
    "}\n",
    "\n",
    "print(lstm_macro_avg)\n",
    "print(type(lstm_macro_avg)) # dict\n"
   ]
  }
 ],
 "metadata": {
  "kernelspec": {
   "display_name": "DL",
   "language": "python",
   "name": "python3"
  },
  "language_info": {
   "codemirror_mode": {
    "name": "ipython",
    "version": 3
   },
   "file_extension": ".py",
   "mimetype": "text/x-python",
   "name": "python",
   "nbconvert_exporter": "python",
   "pygments_lexer": "ipython3",
   "version": "3.11.0"
  }
 },
 "nbformat": 4,
 "nbformat_minor": 2
}
